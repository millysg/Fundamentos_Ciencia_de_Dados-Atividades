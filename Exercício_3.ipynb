{
  "cells": [
    {
      "cell_type": "markdown",
      "metadata": {
        "id": "view-in-github",
        "colab_type": "text"
      },
      "source": [
        "<a href=\"https://colab.research.google.com/github/millysg/Fundamentos_Ciencia_de_Dados-Atividades/blob/main/Exerc%C3%ADcios_3.ipynb\" target=\"_parent\"><img src=\"https://colab.research.google.com/assets/colab-badge.svg\" alt=\"Open In Colab\"/></a>"
      ]
    },
    {
      "cell_type": "markdown",
      "metadata": {
        "id": "wI0aU60_OJhg"
      },
      "source": [
        "## Exercícios #3 - Operadores de comparação e laços\n"
      ]
    },
    {
      "cell_type": "markdown",
      "metadata": {
        "id": "LS1z0ceQOJhi"
      },
      "source": [
        "### Exercício 1\n",
        "Faça um programa para a leitura de duas notas parciais de um aluno. O programa deve calcular a média alcançada por aluno e apresentar:\n",
        "- A mensagem \"Aprovado\", se a média alcançada for maior ou igual a 7;\n",
        "- A mensagem \"Reprovado\", se a média for menor do que 7;\n",
        "- A mensagem \"Aprovado com Distinção\", se a média for igual a 10."
      ]
    },
    {
      "cell_type": "code",
      "execution_count": 4,
      "metadata": {
        "colab": {
          "base_uri": "https://localhost:8080/"
        },
        "id": "tZuZ9Kn5OJhi",
        "outputId": "3f1f5340-cf8a-4dcf-d025-5c49a4bdddda"
      },
      "outputs": [
        {
          "output_type": "stream",
          "name": "stdout",
          "text": [
            "Digite as notas do aluno\n",
            "Nota 1: 7\n",
            "Nota 2: 7\n",
            "Aprovado\n"
          ]
        }
      ],
      "source": [
        "def media(nota1, nota2):\n",
        "    media = (nota1 + nota2) / 2\n",
        "    if media == 10:\n",
        "        print(\"Aprovado com Distinção\")\n",
        "    elif media >= 7:\n",
        "        print(\"Aprovado\")\n",
        "    else:\n",
        "        print(\"Reprovado\")\n",
        "\n",
        "print(\"Digite as notas do aluno\")\n",
        "nota1 = float(input(\"Nota 1: \"))\n",
        "nota2 = float(input(\"Nota 2: \"))\n",
        "\n",
        "media(nota1, nota2)"
      ]
    },
    {
      "cell_type": "markdown",
      "metadata": {
        "id": "agWrea6XOJhj"
      },
      "source": [
        "### Exercício 2\n",
        "Escreva um script que leia três números e mostre o maior e o menor deles."
      ]
    },
    {
      "cell_type": "code",
      "source": [
        "print(\"Digite 3 números\")\n",
        "print(\"1° número:\")\n",
        "num1 = float(input())\n",
        "print(\"\\n2° número:\")\n",
        "num2 = float(input())\n",
        "print(\"\\n3° número:\")\n",
        "num3 = float(input())\n",
        "\n",
        "a = num1\n",
        "b = num2\n",
        "c = num3\n",
        "\n",
        "if num1 > num2 and num1 > num3:\n",
        "  print(f\"\\nO maior número é o {a}\")\n",
        "  if num2 > num3:\n",
        "    print(f\"\\nO menor número é o {c}\")\n",
        "  else:\n",
        "    print(f\"\\nO menor número é o {b}\")\n",
        "\n",
        "elif num2 > num1 and num2 > num3:\n",
        "  print(f\"\\nO maior número é o {b}\")\n",
        "  if num1 > num3:\n",
        "    print(f\"\\nO menor número é o {c}\")\n",
        "  else:\n",
        "    print(f\"\\nO menor número é o {a}\")\n",
        "\n",
        "else:\n",
        "  print(f\"\\nO maior número é o {c}\")\n",
        "  if num1 > num2:\n",
        "    print(f\"\\no menor número é o {b}\")\n",
        "  else:\n",
        "    print(f\"\\nO menor número é o {a}\")"
      ],
      "metadata": {
        "colab": {
          "base_uri": "https://localhost:8080/"
        },
        "id": "Uz_hlODNWQc0",
        "outputId": "bca83e03-a570-4609-ccce-2f50fe5982fa"
      },
      "execution_count": 23,
      "outputs": [
        {
          "output_type": "stream",
          "name": "stdout",
          "text": [
            "Digite 3 números\n",
            "1° número:\n",
            "6\n",
            "\n",
            "2° número:\n",
            "15\n",
            "\n",
            "3° número:\n",
            "4\n",
            "\n",
            "O maior número é o 15.0\n",
            "\n",
            "O menor número é o 4.0\n"
          ]
        }
      ]
    },
    {
      "cell_type": "markdown",
      "metadata": {
        "id": "3SfwekffOJhj"
      },
      "source": [
        "### Exercício 3\n",
        "Nome na vertical em escada.\n",
        "\n",
        "F<br>\n",
        "FU<br>\n",
        "FUL<br>\n",
        "FULA<br>\n",
        "FULAN<br>\n",
        "FULANO<br>"
      ]
    },
    {
      "cell_type": "code",
      "execution_count": 52,
      "metadata": {
        "colab": {
          "base_uri": "https://localhost:8080/"
        },
        "id": "JfqasSJyOJhj",
        "outputId": "cea9b377-b895-4371-92ac-f38d6284c1b4"
      },
      "outputs": [
        {
          "output_type": "stream",
          "name": "stdout",
          "text": [
            "Digite um nome: \n",
            "Emilly\n",
            "\n",
            "Aqui está Emilly na vertical em escada:\n",
            "E\n",
            "Em\n",
            "Emi\n",
            "Emil\n",
            "Emill\n",
            "Emilly\n"
          ]
        }
      ],
      "source": [
        "def nome_em_escada(nome):\n",
        "    i = 0\n",
        "    while i < len(nome):\n",
        "        print(nome[:i + 1])\n",
        "        i += 1\n",
        "\n",
        "print(\"Digite um nome: \")\n",
        "nome = input()\n",
        "print(f\"\\nAqui está {nome} na vertical em escada:\")\n",
        "nome_em_escada(nome)"
      ]
    },
    {
      "cell_type": "markdown",
      "metadata": {
        "id": "TdsR874EOJhj"
      },
      "source": [
        "### Exercício 4\n",
        "A série de Fibonacci é formada pela seqüência 1,1,2,3,5,8,13,21,34,55,... (o próximo termo, a partir do terceiro, é sempre gerado a partir do somatório dos últimos dois). Faça um programa capaz de gerar a série até o n−ésimo termo (onde o valor n deve ser inserido pelo usuário)."
      ]
    },
    {
      "cell_type": "code",
      "source": [
        "def fibonacci(n):\n",
        "    if n <= 0:\n",
        "        print(\"Insira um número inteiro positivo.\")\n",
        "        return\n",
        "\n",
        "    sequencia = [1, 1]\n",
        "\n",
        "    for i in range(2, n):\n",
        "        prox = sequencia[-1] + sequencia[-2]\n",
        "        sequencia.append(prox)\n",
        "\n",
        "    if n == 1:\n",
        "        sequencia = [1]\n",
        "\n",
        "    print(f\"A série de Fibonacci até o {n}º termo é:\", sequencia)\n",
        "\n",
        "\n",
        "print(\"Digite o número de termos desejado: \")\n",
        "n = int(input())\n",
        "fibonacci(n)\n"
      ],
      "metadata": {
        "colab": {
          "base_uri": "https://localhost:8080/"
        },
        "id": "XtbuGWk2f51M",
        "outputId": "71bdc450-e3fe-48b7-92d8-020891145630"
      },
      "execution_count": 51,
      "outputs": [
        {
          "output_type": "stream",
          "name": "stdout",
          "text": [
            "Digite o número de termos desejado: \n",
            "10\n",
            "A série de Fibonacci até o 10º termo é: [1, 1, 2, 3, 5, 8, 13, 21, 34, 55]\n"
          ]
        }
      ]
    },
    {
      "cell_type": "markdown",
      "metadata": {
        "id": "mUcyOey9OJhk"
      },
      "source": [
        "### Exercício 5\n",
        "Faça um programa que leia e valide as seguintes informações:\n",
        "- Nome: maior que 3 caracteres;\n",
        "- Idade: entre 0 e 150;\n",
        "- Salário: maior que zero;\n",
        "- Sexo: 'f' ou 'm';\n",
        "- Estado Civil: 's', 'c', 'v', 'd';"
      ]
    },
    {
      "cell_type": "code",
      "execution_count": 61,
      "metadata": {
        "colab": {
          "base_uri": "https://localhost:8080/"
        },
        "id": "KoVDYt_vOJhl",
        "outputId": "d19fcd92-7bdb-42f6-c983-ae2e4607b4de"
      },
      "outputs": [
        {
          "output_type": "stream",
          "name": "stdout",
          "text": [
            "Digite seu nome: \n",
            "Emi\n",
            "O nome deve ter mais de 3 caracteres. Digite novamente:\n",
            "Emilly\n",
            "Digite sua idade: \n",
            "-12\n",
            "A idade deve estar entre 0 e 150. Digite novamente:\n",
            "22\n",
            "Digite seu salário: \n",
            "-233\n",
            "O salário deve ser maior que zero. Digite novamente:\n",
            "1000\n",
            "Digite seu sexo (f/m): \n",
            "s\n",
            "O sexo deve ser 'f' ou 'm'. Digite novamente:\n",
            "f\n",
            "Digite seu estado civil (s/c/v/d): \n",
            "q\n",
            "O estado civil deve ser 's', 'c', 'v' ou 'd'. Digite novamente:\n",
            "s\n",
            "Nome: Emilly\n",
            "Idade: 22\n",
            "Salário: R$ 1000.0\n",
            "Sexo: f\n",
            "Estado Civil: s\n"
          ]
        }
      ],
      "source": [
        "print(\"Digite seu nome: \")\n",
        "name = input()\n",
        "while len(name) <= 3:\n",
        "    print(\"O nome deve ter mais de 3 caracteres. Digite novamente:\")\n",
        "    name = input()\n",
        "\n",
        "print(\"Digite sua idade: \")\n",
        "idade = int(input())\n",
        "\n",
        "while idade < 0 or idade > 150:\n",
        "    print(\"A idade deve estar entre 0 e 150. Digite novamente:\")\n",
        "    idade = int(input())\n",
        "\n",
        "print(\"Digite seu salário: \")\n",
        "salario = float(input())\n",
        "while salario <= 0:\n",
        "    print(\"O salário deve ser maior que zero. Digite novamente:\")\n",
        "    salario = float(input())\n",
        "\n",
        "print(\"Digite seu sexo (f/m): \")\n",
        "sexo = input()\n",
        "while sexo != 'f' and sexo != 'm':\n",
        "    print(\"O sexo deve ser 'f' ou 'm'. Digite novamente:\")\n",
        "    sexo = input()\n",
        "\n",
        "print(\"Digite seu estado civil (s/c/v/d): \")\n",
        "estado_civil = input()\n",
        "while estado_civil != 's' and estado_civil != 'c' and estado_civil != 'v' and estado_civil != 'd':\n",
        "    print(\"O estado civil deve ser 's', 'c', 'v' ou 'd'. Digite novamente:\")\n",
        "    estado_civil = input()\n",
        "\n",
        "print(\"Nome:\", name)\n",
        "print(\"Idade:\", idade)\n",
        "print(\"Salário: R$\", salario)\n",
        "print(\"Sexo:\", sexo)\n",
        "print(\"Estado Civil:\", estado_civil)"
      ]
    },
    {
      "cell_type": "markdown",
      "metadata": {
        "id": "6PgIuPgwOJhl"
      },
      "source": [
        "### Exercício 6\n",
        "Faça um programa que peça um número inteiro e determine se ele é ou não um número primo. Um número primo é aquele que é divisível somente por ele mesmo e por 1.\n",
        "Dica: Utilize o operador aritmético `%`, que retorna o resto da divisão de dois números."
      ]
    },
    {
      "cell_type": "code",
      "execution_count": 105,
      "metadata": {
        "colab": {
          "base_uri": "https://localhost:8080/"
        },
        "id": "lXzNSI4TOJhl",
        "outputId": "77420f07-8056-4b50-8715-8ef5079262f7"
      },
      "outputs": [
        {
          "output_type": "stream",
          "name": "stdout",
          "text": [
            "Digite um número inteiro: \n",
            "4\n",
            "O 4 não é um número primo.\n"
          ]
        }
      ],
      "source": [
        "print(\"Digite um número inteiro: \")\n",
        "num = int(input())\n",
        "\n",
        "if num <= 1:\n",
        "    print(f\"O {num} não é um número primo.\")\n",
        "\n",
        "else:\n",
        "  i = 0\n",
        "  x = 0\n",
        "  while i < num:\n",
        "   i += 1\n",
        "   resto = num % i\n",
        "   if resto == 0:\n",
        "    x += 1\n",
        "  if x == 2:\n",
        "     print(f\"O {num} é um número primo.\")\n",
        "  else:\n",
        "    print(f\"O {num} não é um número primo.\")"
      ]
    }
  ],
  "metadata": {
    "kernelspec": {
      "display_name": "Python 3 (ipykernel)",
      "language": "python",
      "name": "python3"
    },
    "language_info": {
      "codemirror_mode": {
        "name": "ipython",
        "version": 3
      },
      "file_extension": ".py",
      "mimetype": "text/x-python",
      "name": "python",
      "nbconvert_exporter": "python",
      "pygments_lexer": "ipython3",
      "version": "3.11.5"
    },
    "colab": {
      "provenance": [],
      "include_colab_link": true
    }
  },
  "nbformat": 4,
  "nbformat_minor": 0
}
