{
  "nbformat": 4,
  "nbformat_minor": 0,
  "metadata": {
    "colab": {
      "provenance": [],
      "authorship_tag": "ABX9TyNWPaZbegeKQaXGGZf5mWXu",
      "include_colab_link": true
    },
    "kernelspec": {
      "name": "python3",
      "display_name": "Python 3"
    },
    "language_info": {
      "name": "python"
    }
  },
  "cells": [
    {
      "cell_type": "markdown",
      "metadata": {
        "id": "view-in-github",
        "colab_type": "text"
      },
      "source": [
        "<a href=\"https://colab.research.google.com/github/millysg/Fundamentos_Ciencia_de_Dados-Atividades/blob/main/Exerc%C3%ADcio_2.ipynb\" target=\"_parent\"><img src=\"https://colab.research.google.com/assets/colab-badge.svg\" alt=\"Open In Colab\"/></a>"
      ]
    },
    {
      "cell_type": "markdown",
      "source": [
        "# Exercício 1"
      ],
      "metadata": {
        "id": "3qvXvW2Gqf_G"
      }
    },
    {
      "cell_type": "code",
      "source": [
        "nome = \"Emilly\""
      ],
      "metadata": {
        "id": "tNKrM8P1q7IG"
      },
      "execution_count": 28,
      "outputs": []
    },
    {
      "cell_type": "code",
      "source": [
        "idade = 22"
      ],
      "metadata": {
        "id": "Lt2KZ9lzrUpf"
      },
      "execution_count": 29,
      "outputs": []
    },
    {
      "cell_type": "code",
      "source": [
        "altura = 1.55"
      ],
      "metadata": {
        "id": "VEtWcMforXIX"
      },
      "execution_count": 30,
      "outputs": []
    },
    {
      "cell_type": "code",
      "source": [
        "print(\"Meu nome é {a}, tenho {b} anos e minha altura é {c} metros.\".format(a = nome, b = idade, c = altura))"
      ],
      "metadata": {
        "colab": {
          "base_uri": "https://localhost:8080/"
        },
        "id": "lDhctWNnrdg-",
        "outputId": "d532092e-21de-4b8c-8254-70013aedec25"
      },
      "execution_count": 31,
      "outputs": [
        {
          "output_type": "stream",
          "name": "stdout",
          "text": [
            "Meu nome é Emilly, tenho 22 anos e minha altura é 1.55 metros.\n"
          ]
        }
      ]
    },
    {
      "cell_type": "markdown",
      "source": [
        "# Exercício 2"
      ],
      "metadata": {
        "id": "FpNxQlE6sLMX"
      }
    },
    {
      "cell_type": "code",
      "source": [
        "frase = \"Python é uma linguagem de programação muito poderosa.\""
      ],
      "metadata": {
        "id": "5vv3x378sOfD"
      },
      "execution_count": null,
      "outputs": []
    },
    {
      "cell_type": "code",
      "source": [
        "frase.upper()"
      ],
      "metadata": {
        "colab": {
          "base_uri": "https://localhost:8080/",
          "height": 36
        },
        "id": "zDVU_Xc8sT-m",
        "outputId": "de903af7-b7d7-4f31-d2b6-901b0f5736c6"
      },
      "execution_count": null,
      "outputs": [
        {
          "output_type": "execute_result",
          "data": {
            "text/plain": [
              "'PYTHON É UMA LINGUAGEM DE PROGRAMAÇÃO MUITO PODEROSA.'"
            ],
            "application/vnd.google.colaboratory.intrinsic+json": {
              "type": "string"
            }
          },
          "metadata": {},
          "execution_count": 13
        }
      ]
    },
    {
      "cell_type": "code",
      "source": [
        "frase.lower()"
      ],
      "metadata": {
        "colab": {
          "base_uri": "https://localhost:8080/",
          "height": 36
        },
        "id": "p2qC5i1ssXyo",
        "outputId": "bb343a9a-dad4-4a9d-cef7-2de63a2baa89"
      },
      "execution_count": null,
      "outputs": [
        {
          "output_type": "execute_result",
          "data": {
            "text/plain": [
              "'python é uma linguagem de programação muito poderosa.'"
            ],
            "application/vnd.google.colaboratory.intrinsic+json": {
              "type": "string"
            }
          },
          "metadata": {},
          "execution_count": 14
        }
      ]
    },
    {
      "cell_type": "code",
      "source": [
        "frase.replace(\"muito\", \"extremamente\")"
      ],
      "metadata": {
        "colab": {
          "base_uri": "https://localhost:8080/",
          "height": 36
        },
        "id": "lycT-p4gscqj",
        "outputId": "d69a9360-387b-41dd-a9fd-d059e5009946"
      },
      "execution_count": null,
      "outputs": [
        {
          "output_type": "execute_result",
          "data": {
            "text/plain": [
              "'Python é uma linguagem de programação extremamente poderosa.'"
            ],
            "application/vnd.google.colaboratory.intrinsic+json": {
              "type": "string"
            }
          },
          "metadata": {},
          "execution_count": 16
        }
      ]
    },
    {
      "cell_type": "code",
      "source": [
        "lista = frase.split(\" \")\n",
        "lista"
      ],
      "metadata": {
        "colab": {
          "base_uri": "https://localhost:8080/"
        },
        "id": "tiSydinls3Hn",
        "outputId": "fa221a85-aa50-47b5-cfb0-45b5db95de58"
      },
      "execution_count": null,
      "outputs": [
        {
          "output_type": "execute_result",
          "data": {
            "text/plain": [
              "['Python', 'é', 'uma', 'linguagem', 'de', 'programação', 'muito', 'poderosa.']"
            ]
          },
          "metadata": {},
          "execution_count": 28
        }
      ]
    },
    {
      "cell_type": "markdown",
      "source": [
        "# Exercício 3"
      ],
      "metadata": {
        "id": "v0EbgCnzuLUE"
      }
    },
    {
      "cell_type": "code",
      "source": [
        "frutas = [\"maçã\", \"banana\", \"laranja\", \"uva\", \"abacaxi\"]\n",
        "frutas"
      ],
      "metadata": {
        "colab": {
          "base_uri": "https://localhost:8080/"
        },
        "id": "ELyzzjoQuOC-",
        "outputId": "fb4b5405-4a64-4f24-d6fc-650690ab7f95"
      },
      "execution_count": null,
      "outputs": [
        {
          "output_type": "execute_result",
          "data": {
            "text/plain": [
              "['maçã', 'banana', 'laranja', 'uva', 'abacaxi']"
            ]
          },
          "metadata": {},
          "execution_count": 32
        }
      ]
    },
    {
      "cell_type": "code",
      "source": [
        "frutas.append(\"manga\")\n",
        "frutas"
      ],
      "metadata": {
        "colab": {
          "base_uri": "https://localhost:8080/"
        },
        "id": "lsOqNQcHucXF",
        "outputId": "ccfd4306-0954-4944-e80e-51e62145f138"
      },
      "execution_count": null,
      "outputs": [
        {
          "output_type": "execute_result",
          "data": {
            "text/plain": [
              "['maçã', 'banana', 'laranja', 'uva', 'abacaxi', 'manga']"
            ]
          },
          "metadata": {},
          "execution_count": 33
        }
      ]
    },
    {
      "cell_type": "code",
      "source": [
        "frutas.remove(\"laranja\")\n",
        "frutas"
      ],
      "metadata": {
        "colab": {
          "base_uri": "https://localhost:8080/"
        },
        "id": "XDKQ6YAnujcU",
        "outputId": "acdb8521-2575-48ba-8f24-5ba9640258b4"
      },
      "execution_count": null,
      "outputs": [
        {
          "output_type": "execute_result",
          "data": {
            "text/plain": [
              "['maçã', 'banana', 'uva', 'abacaxi', 'manga']"
            ]
          },
          "metadata": {},
          "execution_count": 34
        }
      ]
    },
    {
      "cell_type": "code",
      "source": [
        "frutas[2:3]"
      ],
      "metadata": {
        "colab": {
          "base_uri": "https://localhost:8080/"
        },
        "id": "zlpmkcGBuqli",
        "outputId": "396a8376-0ad7-4242-dbe2-4e2a048164c9"
      },
      "execution_count": null,
      "outputs": [
        {
          "output_type": "execute_result",
          "data": {
            "text/plain": [
              "['uva']"
            ]
          },
          "metadata": {},
          "execution_count": 40
        }
      ]
    },
    {
      "cell_type": "code",
      "source": [
        "frutas.sort()\n",
        "frutas"
      ],
      "metadata": {
        "colab": {
          "base_uri": "https://localhost:8080/"
        },
        "id": "4FVS65quvG_1",
        "outputId": "87169568-1738-4c16-a799-64a945258ead"
      },
      "execution_count": null,
      "outputs": [
        {
          "output_type": "execute_result",
          "data": {
            "text/plain": [
              "['abacaxi', 'banana', 'manga', 'maçã', 'uva']"
            ]
          },
          "metadata": {},
          "execution_count": 41
        }
      ]
    },
    {
      "cell_type": "code",
      "source": [
        "numeros = [10, 5, 8, 3, 6]\n",
        "sum(numeros)"
      ],
      "metadata": {
        "colab": {
          "base_uri": "https://localhost:8080/"
        },
        "id": "Qqc-A95lvM71",
        "outputId": "976e0d0c-9189-4b96-ad91-7109e0519e80"
      },
      "execution_count": null,
      "outputs": [
        {
          "output_type": "execute_result",
          "data": {
            "text/plain": [
              "32"
            ]
          },
          "metadata": {},
          "execution_count": 43
        }
      ]
    },
    {
      "cell_type": "markdown",
      "source": [
        "# Exercício 4"
      ],
      "metadata": {
        "id": "RMwd-lifLhpU"
      }
    },
    {
      "cell_type": "code",
      "source": [
        "pessoas = {\"nome\": \"Carlos\", \"idade\": 30, \"cidade\": \"São Paulo\"}\n",
        "pessoas"
      ],
      "metadata": {
        "colab": {
          "base_uri": "https://localhost:8080/",
          "height": 0
        },
        "id": "XjvPAMlNLkCJ",
        "outputId": "62c9b289-18dd-42e9-dbd4-f7015f0dd7ed"
      },
      "execution_count": 4,
      "outputs": [
        {
          "output_type": "execute_result",
          "data": {
            "text/plain": [
              "{'nome': 'Carlos', 'idade': 30, 'cidade': 'São Paulo'}"
            ]
          },
          "metadata": {},
          "execution_count": 4
        }
      ]
    },
    {
      "cell_type": "code",
      "source": [
        "pessoas['nome']"
      ],
      "metadata": {
        "colab": {
          "base_uri": "https://localhost:8080/",
          "height": 36
        },
        "id": "qBwg6FhsMGNW",
        "outputId": "618718ec-814e-4fa9-80c3-154b83c4a893"
      },
      "execution_count": 5,
      "outputs": [
        {
          "output_type": "execute_result",
          "data": {
            "text/plain": [
              "'Carlos'"
            ],
            "application/vnd.google.colaboratory.intrinsic+json": {
              "type": "string"
            }
          },
          "metadata": {},
          "execution_count": 5
        }
      ]
    },
    {
      "cell_type": "code",
      "source": [
        "pessoas['idade'] = 31\n",
        "pessoas"
      ],
      "metadata": {
        "colab": {
          "base_uri": "https://localhost:8080/",
          "height": 0
        },
        "id": "YsFMPTTgMZpp",
        "outputId": "e4f65948-db40-456e-ffec-68fdbf8ebaa5"
      },
      "execution_count": 6,
      "outputs": [
        {
          "output_type": "execute_result",
          "data": {
            "text/plain": [
              "{'nome': 'Carlos', 'idade': 31, 'cidade': 'São Paulo'}"
            ]
          },
          "metadata": {},
          "execution_count": 6
        }
      ]
    },
    {
      "cell_type": "code",
      "source": [
        "pessoas['profissão'] = 'Engenheiro'\n",
        "pessoas"
      ],
      "metadata": {
        "colab": {
          "base_uri": "https://localhost:8080/",
          "height": 0
        },
        "id": "RfBXtHxLMg-c",
        "outputId": "08c6bc84-5a1c-443f-c9f0-480fea2a2175"
      },
      "execution_count": 7,
      "outputs": [
        {
          "output_type": "execute_result",
          "data": {
            "text/plain": [
              "{'nome': 'Carlos',\n",
              " 'idade': 31,\n",
              " 'cidade': 'São Paulo',\n",
              " 'profissão': 'Engenheiro'}"
            ]
          },
          "metadata": {},
          "execution_count": 7
        }
      ]
    },
    {
      "cell_type": "code",
      "source": [
        "pessoas.pop('cidade')\n",
        "pessoas"
      ],
      "metadata": {
        "colab": {
          "base_uri": "https://localhost:8080/",
          "height": 0
        },
        "id": "hAAzlYIoMvIj",
        "outputId": "3716997b-db1d-46e2-8d8f-a2cab02581f7"
      },
      "execution_count": 8,
      "outputs": [
        {
          "output_type": "execute_result",
          "data": {
            "text/plain": [
              "{'nome': 'Carlos', 'idade': 31, 'profissão': 'Engenheiro'}"
            ]
          },
          "metadata": {},
          "execution_count": 8
        }
      ]
    },
    {
      "cell_type": "code",
      "source": [
        "pessoas.keys()"
      ],
      "metadata": {
        "colab": {
          "base_uri": "https://localhost:8080/"
        },
        "id": "qB0tq939M23z",
        "outputId": "61c09ddb-1f1a-47ed-a160-8fa4cc6bf2b3"
      },
      "execution_count": 9,
      "outputs": [
        {
          "output_type": "execute_result",
          "data": {
            "text/plain": [
              "dict_keys(['nome', 'idade', 'profissão'])"
            ]
          },
          "metadata": {},
          "execution_count": 9
        }
      ]
    },
    {
      "cell_type": "code",
      "source": [
        "pessoas.values()"
      ],
      "metadata": {
        "colab": {
          "base_uri": "https://localhost:8080/"
        },
        "id": "kgMJwK6QM9TI",
        "outputId": "160e8e19-1b5f-41e1-8507-64e1677037bf"
      },
      "execution_count": 10,
      "outputs": [
        {
          "output_type": "execute_result",
          "data": {
            "text/plain": [
              "dict_values(['Carlos', 31, 'Engenheiro'])"
            ]
          },
          "metadata": {},
          "execution_count": 10
        }
      ]
    },
    {
      "cell_type": "markdown",
      "source": [
        "# Exercício 5"
      ],
      "metadata": {
        "id": "C7PQn3eXNgtj"
      }
    },
    {
      "cell_type": "code",
      "source": [
        "cores = (\"vermelho\", \"azul\", \"verde\", \"amerelo\", \"roxo\")\n",
        "cores"
      ],
      "metadata": {
        "colab": {
          "base_uri": "https://localhost:8080/"
        },
        "id": "afkdhYFVNir1",
        "outputId": "5a27c16c-b781-4bed-ae58-a9d04be56b9f"
      },
      "execution_count": 11,
      "outputs": [
        {
          "output_type": "execute_result",
          "data": {
            "text/plain": [
              "('vermelho', 'azul', 'verde', 'amerelo', 'roxo')"
            ]
          },
          "metadata": {},
          "execution_count": 11
        }
      ]
    },
    {
      "cell_type": "code",
      "source": [
        "cores[1]"
      ],
      "metadata": {
        "colab": {
          "base_uri": "https://localhost:8080/",
          "height": 36
        },
        "id": "BI0neFRGNvIz",
        "outputId": "e46262fb-8ad7-484a-f93b-a2526bbbc6aa"
      },
      "execution_count": 12,
      "outputs": [
        {
          "output_type": "execute_result",
          "data": {
            "text/plain": [
              "'azul'"
            ],
            "application/vnd.google.colaboratory.intrinsic+json": {
              "type": "string"
            }
          },
          "metadata": {},
          "execution_count": 12
        }
      ]
    },
    {
      "cell_type": "code",
      "source": [
        "\"azul\" in cores"
      ],
      "metadata": {
        "colab": {
          "base_uri": "https://localhost:8080/"
        },
        "id": "EB5raJQcN4-e",
        "outputId": "4a3480f9-5f24-4255-bc42-f667213c9bb0"
      },
      "execution_count": 13,
      "outputs": [
        {
          "output_type": "execute_result",
          "data": {
            "text/plain": [
              "True"
            ]
          },
          "metadata": {},
          "execution_count": 13
        }
      ]
    },
    {
      "cell_type": "code",
      "source": [
        "números = (1,2,3,4,5)\n",
        "sum(números)"
      ],
      "metadata": {
        "colab": {
          "base_uri": "https://localhost:8080/"
        },
        "id": "Zrkr6ndkOBuC",
        "outputId": "fe38c42a-6ae1-44a2-f299-539d11490dfd"
      },
      "execution_count": 15,
      "outputs": [
        {
          "output_type": "execute_result",
          "data": {
            "text/plain": [
              "15"
            ]
          },
          "metadata": {},
          "execution_count": 15
        }
      ]
    },
    {
      "cell_type": "code",
      "source": [
        "cores[2] = \"laranja\""
      ],
      "metadata": {
        "colab": {
          "base_uri": "https://localhost:8080/",
          "height": 146
        },
        "id": "bskYEFSBOiWa",
        "outputId": "aa396c9e-9fa2-4843-a7d9-43c8d9e3d10c"
      },
      "execution_count": 16,
      "outputs": [
        {
          "output_type": "error",
          "ename": "TypeError",
          "evalue": "'tuple' object does not support item assignment",
          "traceback": [
            "\u001b[0;31m---------------------------------------------------------------------------\u001b[0m",
            "\u001b[0;31mTypeError\u001b[0m                                 Traceback (most recent call last)",
            "\u001b[0;32m<ipython-input-16-42be83b75d02>\u001b[0m in \u001b[0;36m<cell line: 0>\u001b[0;34m()\u001b[0m\n\u001b[0;32m----> 1\u001b[0;31m \u001b[0mcores\u001b[0m\u001b[0;34m[\u001b[0m\u001b[0;36m2\u001b[0m\u001b[0;34m]\u001b[0m \u001b[0;34m=\u001b[0m \u001b[0;34m\"laranja\"\u001b[0m\u001b[0;34m\u001b[0m\u001b[0;34m\u001b[0m\u001b[0m\n\u001b[0m",
            "\u001b[0;31mTypeError\u001b[0m: 'tuple' object does not support item assignment"
          ]
        }
      ]
    },
    {
      "cell_type": "markdown",
      "source": [
        "Não é possivel alterar os valores de uma tupla porque elas são imutáveis para que os dados sejam armazenados de forma estática e segura, o que garante que eles não sejam alterados sem querer durante a execusão do código.\n"
      ],
      "metadata": {
        "id": "9O8zK47VO8fk"
      }
    },
    {
      "cell_type": "code",
      "source": [
        "nova_cores = cores + (\"preto\", \"branco\")\n",
        "nova_cores"
      ],
      "metadata": {
        "colab": {
          "base_uri": "https://localhost:8080/"
        },
        "id": "5G2jQAq5Po-o",
        "outputId": "08a2ae6f-4dbf-4391-e443-323c8b032d66"
      },
      "execution_count": 17,
      "outputs": [
        {
          "output_type": "execute_result",
          "data": {
            "text/plain": [
              "('vermelho', 'azul', 'verde', 'amerelo', 'roxo', 'preto', 'branco')"
            ]
          },
          "metadata": {},
          "execution_count": 17
        }
      ]
    },
    {
      "cell_type": "markdown",
      "source": [
        "# Exercício 6"
      ],
      "metadata": {
        "id": "HMcPDbn0vlTR"
      }
    },
    {
      "cell_type": "code",
      "source": [
        "print(\"Digite sua altura (utilize ponto ao invés de vírgula): \")\n",
        "alt = input()\n",
        "print(\"Digite seu peso: \")\n",
        "peso = input()\n",
        "print(\"Seu IMC é: \", float(peso) / float(alt)**2)"
      ],
      "metadata": {
        "colab": {
          "base_uri": "https://localhost:8080/"
        },
        "id": "4KeCeuwDvoIp",
        "outputId": "a3d243b6-3dcc-4060-ddaa-81cac5f2f03c"
      },
      "execution_count": null,
      "outputs": [
        {
          "output_type": "stream",
          "name": "stdout",
          "text": [
            "Digite sua altura (utilize ponto ao invés de vírgula): \n",
            "1.55\n",
            "Digite seu peso: \n",
            "64\n",
            "Seu IMC é:  26.638917793964616\n"
          ]
        }
      ]
    },
    {
      "cell_type": "markdown",
      "source": [
        "# Exercício 7"
      ],
      "metadata": {
        "id": "yLcMDqPQxAas"
      }
    },
    {
      "cell_type": "code",
      "source": [
        "print(\"Digite seu nome completo: \")\n",
        "name = input()\n",
        "lista_name = name.split()\n",
        "print(\"Olá, {d}!\".format(d = lista_name[0]))"
      ],
      "metadata": {
        "colab": {
          "base_uri": "https://localhost:8080/",
          "height": 0
        },
        "id": "4kD2OKNTxDsM",
        "outputId": "08e4faa8-41cc-4384-b347-1b460b353859"
      },
      "execution_count": 2,
      "outputs": [
        {
          "output_type": "stream",
          "name": "stdout",
          "text": [
            "Digite seu nome completo: \n",
            "Emilly Sales Guimarães\n",
            "Olá, Emilly!\n"
          ]
        }
      ]
    },
    {
      "cell_type": "markdown",
      "source": [
        "# Exercício 8"
      ],
      "metadata": {
        "id": "d0-nAv0Dyoyo"
      }
    },
    {
      "cell_type": "code",
      "source": [
        "print(\"Digite o seu email:\")\n",
        "email = input()\n",
        "lista_email = email.split(\"@\")\n",
        "print(\"O domínio do seu email é: {e}\".format(e = lista_email[1]))"
      ],
      "metadata": {
        "id": "YG6McYaXyq33",
        "colab": {
          "base_uri": "https://localhost:8080/",
          "height": 0
        },
        "outputId": "e234da62-a957-459a-837c-7a34cbab0e84"
      },
      "execution_count": 3,
      "outputs": [
        {
          "output_type": "stream",
          "name": "stdout",
          "text": [
            "Digite o seu email:\n",
            "emilly@gmail.com\n",
            "O domínio do seu email é: gmail.com\n"
          ]
        }
      ]
    },
    {
      "cell_type": "markdown",
      "source": [
        "# Exercício 9"
      ],
      "metadata": {
        "id": "bavGkoQwRr14"
      }
    },
    {
      "cell_type": "code",
      "source": [
        "print(\"Quanto você ganha por hora?\")\n",
        "ganho_hora = float(input())\n",
        "print(\"Quantas horas você trabalha por mês?\")\n",
        "horas_mes = float(input())\n",
        "salario_bruto = ganho_hora * horas_mes\n",
        "imposto_renda = salario_bruto * 0.11\n",
        "inss = salario_bruto * 0.08\n",
        "sindicato = salario_bruto * 0.05\n",
        "salario_liquido = salario_bruto - inss - sindicato - imposto_renda\n",
        "print(\"\\nSeu salário bruto é:R${f}\\n\".format(f = salario_bruto))\n",
        "print(\"Você pagou R${g} de imposto de renda.\\n\".format(g = imposto_renda))\n",
        "print(\"Você pagou R${h} de INSS.\\n\".format(h = inss))\n",
        "print(\"Você pagou R${i} de sindicato.\\n\".format(i = sindicato))\n",
        "print(\"Seu salário líquido é:R${j}\".format(j = salario_liquido))"
      ],
      "metadata": {
        "colab": {
          "base_uri": "https://localhost:8080/"
        },
        "id": "4g7CQYXCRt6n",
        "outputId": "f9695d90-cb8c-481d-bdfc-3c60b06828ef"
      },
      "execution_count": 26,
      "outputs": [
        {
          "output_type": "stream",
          "name": "stdout",
          "text": [
            "Quanto você ganha por hora?\n",
            "2\n",
            "Quantas horas você trabalha por mês?\n",
            "4\n",
            "\n",
            "Seu salário bruto é:R$8.0\n",
            "\n",
            "Você pagou R$0.88 de imposto de renda.\n",
            "\n",
            "Você pagou R$0.64 de INSS.\n",
            "\n",
            "Você pagou R$0.4 de sindicato.\n",
            "\n",
            "Seu salário líquido é:R$6.08\n"
          ]
        }
      ]
    }
  ]
}